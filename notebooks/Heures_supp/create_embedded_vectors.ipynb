{
 "cells": [
  {
   "cell_type": "code",
   "execution_count": null,
   "id": "e34cdea4-16db-48b3-b1b7-521adcfd26f8",
   "metadata": {},
   "outputs": [],
   "source": [
    "import pandas as pd\n",
    "from langchain_huggingface import HuggingFaceEmbeddings\n",
    "from langchain.vectorstores import Chroma\n",
    "from langchain_chroma import Chroma\n",
    "from langchain_text_splitters import CharacterTextSplitter\n",
    "from tqdm import tqdm\n",
    "\n",
    "text_splitter = CharacterTextSplitter(\n",
    "    separator=\"\\n\\n\",\n",
    "    chunk_size=3000,\n",
    "    chunk_overlap=200,\n",
    "    length_function=len,\n",
    "    is_separator_regex=False,\n",
    ")\n",
    "\n",
    "\n",
    "\n",
    "model_kwargs = {'device': 'cuda'}\n",
    "embedder = HuggingFaceEmbeddings(model_name=\"BAAI/bge-m3\", model_kwargs=model_kwargs,show_progress=False)"
   ]
  },
  {
   "cell_type": "code",
   "execution_count": null,
   "id": "36ec4eed-e5e2-4c41-bc93-5d0f4f50830f",
   "metadata": {},
   "outputs": [],
   "source": [
    "file=\"10p_accords_publics_et_thematiques_240815.parquet\"\n",
    "df=pd.read_parquet(file)"
   ]
  },
  {
   "cell_type": "code",
   "execution_count": null,
   "id": "48827fee-d9e0-4da9-bce9-182e7d7fcd73",
   "metadata": {},
   "outputs": [],
   "source": [
    "df=df[(df.heures_supp)]"
   ]
  },
  {
   "cell_type": "code",
   "execution_count": null,
   "id": "c07dfaca-424b-4b0a-b2ce-ea6b8cd09f7a",
   "metadata": {},
   "outputs": [],
   "source": [
    "df.to_parquet(\"10p_accords_publics_et_thematiques_240815_sub_heures_supp.parquet\")"
   ]
  },
  {
   "cell_type": "code",
   "execution_count": null,
   "id": "2a8ff8bf-8bc6-46d0-8afe-180d8510869b",
   "metadata": {},
   "outputs": [],
   "source": [
    "vector_store = Chroma(embedding_function=embedder, persist_directory=\"./chroma_db\")\n",
    "for index, row in tqdm(df.iterrows(), total=len(df)):\n",
    "    text=df.loc[index].texte\n",
    "    texts = text_splitter.create_documents([text])\n",
    "    i=0\n",
    "    for t in texts:\n",
    "        t.metadata[\"id\"]=f\"{index}_{i}\"\n",
    "        t.metadata[\"index\"]=f\"{index}\"\n",
    "        vector_store.add_documents([t])\n",
    "        i+=1"
   ]
  },
  {
   "cell_type": "code",
   "execution_count": null,
   "id": "93a42163-b0d6-45e3-84d7-3e72b6aadf4b",
   "metadata": {},
   "outputs": [],
   "source": [
    "!mc cp -r chroma_db s3/$VAULT_TOP_DIR/Accords/Heures_supp/"
   ]
  }
 ],
 "metadata": {
  "kernelspec": {
   "display_name": "Python (.venv)",
   "language": "python",
   "name": "venv"
  },
  "language_info": {
   "codemirror_mode": {
    "name": "ipython",
    "version": 3
   },
   "file_extension": ".py",
   "mimetype": "text/x-python",
   "name": "python",
   "nbconvert_exporter": "python",
   "pygments_lexer": "ipython3",
   "version": "3.12.4"
  }
 },
 "nbformat": 4,
 "nbformat_minor": 5
}
