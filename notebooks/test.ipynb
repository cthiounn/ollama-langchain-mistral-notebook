{
 "cells": [
  {
   "cell_type": "code",
   "execution_count": 1,
   "id": "947a74e4-bdff-4c0c-adec-58d7f643bb69",
   "metadata": {},
   "outputs": [
    {
     "name": "stderr",
     "output_type": "stream",
     "text": [
      "/tmp/ipykernel_3917/2632389468.py:3: TqdmExperimentalWarning: Using `tqdm.autonotebook.tqdm` in notebook mode. Use `tqdm.tqdm` instead to force console mode (e.g. in jupyter console)\n",
      "  from tqdm.autonotebook import tqdm, trange\n"
     ]
    }
   ],
   "source": [
    "from langchain_huggingface import HuggingFaceEmbeddings\n",
    "from langchain.vectorstores import Chroma"
   ]
  },
  {
   "cell_type": "code",
   "execution_count": 3,
   "id": "d684bdd2-84d8-42a0-b780-b34e43ef4ad1",
   "metadata": {},
   "outputs": [],
   "source": [
    "embedder = HuggingFaceEmbeddings(model_name=\"BAAI/bge-m3\")"
   ]
  },
  {
   "cell_type": "code",
   "execution_count": 4,
   "id": "34f0195e-64f5-4f49-ae80-226f73f5ea8e",
   "metadata": {},
   "outputs": [
    {
     "name": "stderr",
     "output_type": "stream",
     "text": [
      "/home/onyxia/work/ollama-langchain-mistral-notebook/.env/lib/python3.12/site-packages/langchain_core/_api/deprecation.py:139: LangChainDeprecationWarning: The class `Chroma` was deprecated in LangChain 0.2.9 and will be removed in 0.4. An updated version of the class exists in the langchain-chroma package and should be used instead. To use it run `pip install -U langchain-chroma` and import as `from langchain_chroma import Chroma`.\n",
      "  warn_deprecated(\n"
     ]
    },
    {
     "name": "stdout",
     "output_type": "stream",
     "text": [
      "Search Results:\n",
      "Content: This is the second document., Metadata: {'label': 'doc2'}\n",
      "Content: This is the first document., Metadata: {'label': 'doc1'}\n"
     ]
    }
   ],
   "source": [
    "# Import necessary libraries\n",
    "from langchain_chroma import Chroma\n",
    "from langchain.embeddings import OpenAIEmbeddings\n",
    "from langchain.document_loaders import TextLoader\n",
    "from langchain.schema import Document\n",
    "\n",
    "\n",
    "\n",
    "# Initialize ChromaDB vector store\n",
    "vector_store = Chroma(embedding_function=embedder)\n",
    "\n",
    "# Create some sample documents\n",
    "documents = [\n",
    "    Document(page_content=\"This is the first document.\", metadata={\"label\": \"doc1\"}),\n",
    "    Document(page_content=\"This is the second document.\", metadata={\"label\": \"doc2\"}),\n",
    "    Document(page_content=\"This is the third document.\", metadata={\"label\": \"doc3\"}),\n",
    "]\n",
    "\n",
    "# Add documents to the vector store\n",
    "vector_store.add_documents(documents)\n",
    "\n",
    "# Perform a similarity search\n",
    "query = \"Find documents similar to this query.\"\n",
    "results = vector_store.similarity_search(query, k=2)\n",
    "\n",
    "# Print the search results\n",
    "print(\"Search Results:\")\n",
    "for result in results:\n",
    "    print(f\"Content: {result.page_content}, Metadata: {result.metadata}\")\n"
   ]
  },
  {
   "cell_type": "code",
   "execution_count": null,
   "id": "ca2c74c0-96eb-4596-838c-15746f53d6bd",
   "metadata": {},
   "outputs": [],
   "source": []
  }
 ],
 "metadata": {
  "kernelspec": {
   "display_name": "Python (.env)",
   "language": "python",
   "name": "dotenv"
  },
  "language_info": {
   "codemirror_mode": {
    "name": "ipython",
    "version": 3
   },
   "file_extension": ".py",
   "mimetype": "text/x-python",
   "name": "python",
   "nbconvert_exporter": "python",
   "pygments_lexer": "ipython3",
   "version": "3.12.4"
  }
 },
 "nbformat": 4,
 "nbformat_minor": 5
}
